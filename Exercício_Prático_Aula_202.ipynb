{
  "nbformat": 4,
  "nbformat_minor": 0,
  "metadata": {
    "colab": {
      "provenance": [],
      "authorship_tag": "ABX9TyODA+AE5bPAFsytglmZChZi",
      "include_colab_link": true
    },
    "kernelspec": {
      "name": "python3",
      "display_name": "Python 3"
    },
    "language_info": {
      "name": "python"
    }
  },
  "cells": [
    {
      "cell_type": "markdown",
      "metadata": {
        "id": "view-in-github",
        "colab_type": "text"
      },
      "source": [
        "<a href=\"https://colab.research.google.com/github/jeansilvaster/Aula-202---Exerc-cio-visualcod/blob/main/Exerc%C3%ADcio_Pr%C3%A1tico_Aula_202.ipynb\" target=\"_parent\"><img src=\"https://colab.research.google.com/assets/colab-badge.svg\" alt=\"Open In Colab\"/></a>"
      ]
    },
    {
      "cell_type": "code",
      "execution_count": null,
      "metadata": {
        "id": "u7KqKUpYEfqv"
      },
      "outputs": [],
      "source": [
        "\"\"\"\n",
        "Práticas do Módulo V\n",
        "Exercício Prático - Aula 202\n",
        "Jean Fabio Ribeiro da Silva\n",
        "globall Hitss - Aneel\n",
        "Brasilia DF\n",
        "(61) 98606-8626\n",
        "\"\"\"\n",
        "\n",
        "\n",
        "# Importe as bibliotecas necessárias\n",
        "from pyspark.sql import SparkSession\n",
        "from pyspark.sql.types import StructType, StructField, StringType, IntegerType, FloatType\n",
        "from pyspark.sql.functions import col, desc\n",
        "\n",
        "# Crie uma sessão PySpark\n",
        "spark = SparkSession.builder.appName(\"Tratamento de Dados\").getOrCreate()\n",
        "\n",
        "# Defina um esquema de tratamento\n",
        "schema = StructType([\n",
        "    StructField(\"age\", IntegerType(), True),\n",
        "    StructField(\"workclass\", StringType(), True),\n",
        "    StructField(\"fnlwgt\", IntegerType(), True),\n",
        "    StructField(\"education\", StringType(), True),\n",
        "    StructField(\"education_num\", IntegerType(), True),\n",
        "    StructField(\"marital_status\", StringType(), True),\n",
        "    StructField(\"occupation\", StringType(), True),\n",
        "    StructField(\"relationship\", StringType(), True),\n",
        "    StructField(\"race\", StringType(), True),\n",
        "    StructField(\"sex\", StringType(), True),\n",
        "    StructField(\"capital_gain\", IntegerType(), True),\n",
        "    StructField(\"capital_loss\", IntegerType(), True),\n",
        "    StructField(\"hours_per_week\", IntegerType(), True),\n",
        "    StructField(\"native_country\", StringType(), True),\n",
        "    StructField(\"income\", StringType(), True)\n",
        "])\n",
        "\n",
        "# Importe o dataset\n",
        "data = spark.read.csv(\"adult_data.csv\",\n",
        "                      header=True, schema=schema)\n",
        "\n",
        "# 1. Imprima o Schema do DataFrame\n",
        "data.printSchema()\n",
        "\n",
        "# 2. Imprima os primeiros 5 registros do DataFrame\n",
        "data.show(5)\n",
        "\n",
        "# 3. Converta o campo 'age' de inteiro para float (ou vice-versa)\n",
        "data = data.withColumn(\"age\", data[\"age\"].cast(FloatType()))\n",
        "\n",
        "# 4. Exiba somente 5 itens com os campos 'age' e 'education'\n",
        "data.select(\"age\", \"education\").show(5)\n",
        "\n",
        "# 5. Agrupe a quantidade de itens em 'education' ordenados de maneira ascendente\n",
        "data.groupBy(\"education\").count().orderBy(\"count\").show()\n",
        "\n",
        "# 6. Exiba um describe da coluna 'capital_gain'\n",
        "data.describe(\"capital_gain\").show()"
      ]
    }
  ]
}